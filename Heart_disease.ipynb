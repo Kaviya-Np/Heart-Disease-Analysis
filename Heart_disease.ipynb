{
 "cells": [
  {
   "cell_type": "markdown",
   "id": "bec7ab16-8384-42bb-9d68-1c59ad9731b7",
   "metadata": {
    "jp-MarkdownHeadingCollapsed": true
   },
   "source": [
    "# Import packages"
   ]
  },
  {
   "cell_type": "code",
   "execution_count": 347,
   "id": "d6fdf9b6-c582-4926-bcda-9100718e9e66",
   "metadata": {},
   "outputs": [],
   "source": [
    "import numpy as np\n",
    "import pandas as pd\n",
    "import matplotlib.pyplot as plt\n",
    "import seaborn as sns"
   ]
  },
  {
   "cell_type": "markdown",
   "id": "632dfa36-fa8c-41e7-b77b-2106b3479f49",
   "metadata": {
    "jp-MarkdownHeadingCollapsed": true
   },
   "source": [
    "# Read the data"
   ]
  },
  {
   "cell_type": "code",
   "execution_count": 348,
   "id": "28732578-ce75-4421-9d45-76106f085a71",
   "metadata": {},
   "outputs": [],
   "source": [
    "data = pd.read_csv('Heart Disease data.csv', encoding = 'unicode_escape')"
   ]
  },
  {
   "cell_type": "markdown",
   "id": "f5a8f528-a205-472e-8f31-12e2c9e78ce8",
   "metadata": {
    "jp-MarkdownHeadingCollapsed": true
   },
   "source": [
    "# DATA CLEANING\n",
    "1. Checkout the data"
   ]
  },
  {
   "cell_type": "code",
   "execution_count": 349,
   "id": "f16c69fc-d05c-4fc4-b480-7e7ad21fb37d",
   "metadata": {},
   "outputs": [
    {
     "data": {
      "text/html": [
       "<div>\n",
       "<style scoped>\n",
       "    .dataframe tbody tr th:only-of-type {\n",
       "        vertical-align: middle;\n",
       "    }\n",
       "\n",
       "    .dataframe tbody tr th {\n",
       "        vertical-align: top;\n",
       "    }\n",
       "\n",
       "    .dataframe thead th {\n",
       "        text-align: right;\n",
       "    }\n",
       "</style>\n",
       "<table border=\"1\" class=\"dataframe\">\n",
       "  <thead>\n",
       "    <tr style=\"text-align: right;\">\n",
       "      <th></th>\n",
       "      <th>age</th>\n",
       "      <th>sex</th>\n",
       "      <th>cp</th>\n",
       "      <th>trestbps</th>\n",
       "      <th>chol</th>\n",
       "      <th>fbs</th>\n",
       "      <th>restecg</th>\n",
       "      <th>thalach</th>\n",
       "      <th>exang</th>\n",
       "      <th>oldpeak</th>\n",
       "      <th>slope</th>\n",
       "      <th>ca</th>\n",
       "      <th>thal</th>\n",
       "      <th>target</th>\n",
       "    </tr>\n",
       "  </thead>\n",
       "  <tbody>\n",
       "    <tr>\n",
       "      <th>0</th>\n",
       "      <td>52</td>\n",
       "      <td>1</td>\n",
       "      <td>0</td>\n",
       "      <td>125</td>\n",
       "      <td>212</td>\n",
       "      <td>0</td>\n",
       "      <td>1</td>\n",
       "      <td>168</td>\n",
       "      <td>0</td>\n",
       "      <td>1.0</td>\n",
       "      <td>2</td>\n",
       "      <td>2</td>\n",
       "      <td>3</td>\n",
       "      <td>0</td>\n",
       "    </tr>\n",
       "    <tr>\n",
       "      <th>1</th>\n",
       "      <td>53</td>\n",
       "      <td>1</td>\n",
       "      <td>0</td>\n",
       "      <td>140</td>\n",
       "      <td>203</td>\n",
       "      <td>1</td>\n",
       "      <td>0</td>\n",
       "      <td>155</td>\n",
       "      <td>1</td>\n",
       "      <td>3.1</td>\n",
       "      <td>0</td>\n",
       "      <td>0</td>\n",
       "      <td>3</td>\n",
       "      <td>0</td>\n",
       "    </tr>\n",
       "    <tr>\n",
       "      <th>2</th>\n",
       "      <td>70</td>\n",
       "      <td>1</td>\n",
       "      <td>0</td>\n",
       "      <td>145</td>\n",
       "      <td>174</td>\n",
       "      <td>0</td>\n",
       "      <td>1</td>\n",
       "      <td>125</td>\n",
       "      <td>1</td>\n",
       "      <td>2.6</td>\n",
       "      <td>0</td>\n",
       "      <td>0</td>\n",
       "      <td>3</td>\n",
       "      <td>0</td>\n",
       "    </tr>\n",
       "  </tbody>\n",
       "</table>\n",
       "</div>"
      ],
      "text/plain": [
       "   age  sex  cp  trestbps  chol  fbs  restecg  thalach  exang  oldpeak  slope  \\\n",
       "0   52    1   0       125   212    0        1      168      0      1.0      2   \n",
       "1   53    1   0       140   203    1        0      155      1      3.1      0   \n",
       "2   70    1   0       145   174    0        1      125      1      2.6      0   \n",
       "\n",
       "   ca  thal  target  \n",
       "0   2     3       0  \n",
       "1   0     3       0  \n",
       "2   0     3       0  "
      ]
     },
     "execution_count": 349,
     "metadata": {},
     "output_type": "execute_result"
    }
   ],
   "source": [
    "data.head(3)"
   ]
  },
  {
   "cell_type": "markdown",
   "id": "65463a50-95a9-4702-bd54-df1fd6281252",
   "metadata": {},
   "source": [
    "2. Check for no. of rows and columns"
   ]
  },
  {
   "cell_type": "code",
   "execution_count": 350,
   "id": "9240a04b-16f7-4bdd-8a0c-0dda8524eb97",
   "metadata": {},
   "outputs": [
    {
     "data": {
      "text/plain": [
       "(1025, 14)"
      ]
     },
     "execution_count": 350,
     "metadata": {},
     "output_type": "execute_result"
    }
   ],
   "source": [
    "data.shape\n"
   ]
  },
  {
   "cell_type": "markdown",
   "id": "6fc17bc0-1abf-45db-911c-52ec368c5ae8",
   "metadata": {},
   "source": [
    "3. Check for rows and columns"
   ]
  },
  {
   "cell_type": "code",
   "execution_count": 351,
   "id": "9ba52df7-f37f-4fda-80cb-327bac82f8bd",
   "metadata": {},
   "outputs": [
    {
     "data": {
      "text/plain": [
       "RangeIndex(start=0, stop=1025, step=1)"
      ]
     },
     "execution_count": 351,
     "metadata": {},
     "output_type": "execute_result"
    }
   ],
   "source": [
    "data.index"
   ]
  },
  {
   "cell_type": "code",
   "execution_count": 352,
   "id": "020de8a7-f8f4-43fc-bd26-fe711e6f6724",
   "metadata": {},
   "outputs": [
    {
     "data": {
      "text/plain": [
       "Index(['age', 'sex', 'cp', 'trestbps', 'chol', 'fbs', 'restecg', 'thalach',\n",
       "       'exang', 'oldpeak', 'slope', 'ca', 'thal', 'target'],\n",
       "      dtype='object')"
      ]
     },
     "execution_count": 352,
     "metadata": {},
     "output_type": "execute_result"
    }
   ],
   "source": [
    "data.columns"
   ]
  },
  {
   "cell_type": "markdown",
   "id": "0c6c648f-22da-45e9-9a0b-12647efbaf0a",
   "metadata": {},
   "source": [
    "4. Check for basic information of data"
   ]
  },
  {
   "cell_type": "code",
   "execution_count": 353,
   "id": "157870c2-b51b-4431-841f-ec14d669fca3",
   "metadata": {},
   "outputs": [
    {
     "name": "stdout",
     "output_type": "stream",
     "text": [
      "<class 'pandas.core.frame.DataFrame'>\n",
      "RangeIndex: 1025 entries, 0 to 1024\n",
      "Data columns (total 14 columns):\n",
      " #   Column    Non-Null Count  Dtype  \n",
      "---  ------    --------------  -----  \n",
      " 0   age       1025 non-null   int64  \n",
      " 1   sex       1025 non-null   int64  \n",
      " 2   cp        1025 non-null   int64  \n",
      " 3   trestbps  1025 non-null   int64  \n",
      " 4   chol      1025 non-null   int64  \n",
      " 5   fbs       1025 non-null   int64  \n",
      " 6   restecg   1025 non-null   int64  \n",
      " 7   thalach   1025 non-null   int64  \n",
      " 8   exang     1025 non-null   int64  \n",
      " 9   oldpeak   1025 non-null   float64\n",
      " 10  slope     1025 non-null   int64  \n",
      " 11  ca        1025 non-null   int64  \n",
      " 12  thal      1025 non-null   int64  \n",
      " 13  target    1025 non-null   int64  \n",
      "dtypes: float64(1), int64(13)\n",
      "memory usage: 112.2 KB\n"
     ]
    }
   ],
   "source": [
    "data.info()\n",
    "# #Check datatype\n",
    "#data.dtypes\n",
    "\n"
   ]
  },
  {
   "cell_type": "markdown",
   "id": "24f5c66a-18bd-4157-85ce-da7aa5ac8425",
   "metadata": {},
   "source": [
    "5. Check for statistics of data"
   ]
  },
  {
   "cell_type": "code",
   "execution_count": 354,
   "id": "ee4c7aaa-82d3-4aab-96e1-dcd90625834d",
   "metadata": {},
   "outputs": [
    {
     "data": {
      "text/html": [
       "<div>\n",
       "<style scoped>\n",
       "    .dataframe tbody tr th:only-of-type {\n",
       "        vertical-align: middle;\n",
       "    }\n",
       "\n",
       "    .dataframe tbody tr th {\n",
       "        vertical-align: top;\n",
       "    }\n",
       "\n",
       "    .dataframe thead th {\n",
       "        text-align: right;\n",
       "    }\n",
       "</style>\n",
       "<table border=\"1\" class=\"dataframe\">\n",
       "  <thead>\n",
       "    <tr style=\"text-align: right;\">\n",
       "      <th></th>\n",
       "      <th>age</th>\n",
       "      <th>sex</th>\n",
       "      <th>cp</th>\n",
       "      <th>trestbps</th>\n",
       "      <th>chol</th>\n",
       "      <th>fbs</th>\n",
       "      <th>restecg</th>\n",
       "      <th>thalach</th>\n",
       "      <th>exang</th>\n",
       "      <th>oldpeak</th>\n",
       "      <th>slope</th>\n",
       "      <th>ca</th>\n",
       "      <th>thal</th>\n",
       "      <th>target</th>\n",
       "    </tr>\n",
       "  </thead>\n",
       "  <tbody>\n",
       "    <tr>\n",
       "      <th>count</th>\n",
       "      <td>1025.000000</td>\n",
       "      <td>1025.000000</td>\n",
       "      <td>1025.000000</td>\n",
       "      <td>1025.000000</td>\n",
       "      <td>1025.00000</td>\n",
       "      <td>1025.000000</td>\n",
       "      <td>1025.000000</td>\n",
       "      <td>1025.000000</td>\n",
       "      <td>1025.000000</td>\n",
       "      <td>1025.000000</td>\n",
       "      <td>1025.000000</td>\n",
       "      <td>1025.000000</td>\n",
       "      <td>1025.000000</td>\n",
       "      <td>1025.000000</td>\n",
       "    </tr>\n",
       "    <tr>\n",
       "      <th>mean</th>\n",
       "      <td>54.434146</td>\n",
       "      <td>0.695610</td>\n",
       "      <td>0.942439</td>\n",
       "      <td>131.611707</td>\n",
       "      <td>246.00000</td>\n",
       "      <td>0.149268</td>\n",
       "      <td>0.529756</td>\n",
       "      <td>149.114146</td>\n",
       "      <td>0.336585</td>\n",
       "      <td>1.071512</td>\n",
       "      <td>1.385366</td>\n",
       "      <td>0.754146</td>\n",
       "      <td>2.323902</td>\n",
       "      <td>0.513171</td>\n",
       "    </tr>\n",
       "    <tr>\n",
       "      <th>std</th>\n",
       "      <td>9.072290</td>\n",
       "      <td>0.460373</td>\n",
       "      <td>1.029641</td>\n",
       "      <td>17.516718</td>\n",
       "      <td>51.59251</td>\n",
       "      <td>0.356527</td>\n",
       "      <td>0.527878</td>\n",
       "      <td>23.005724</td>\n",
       "      <td>0.472772</td>\n",
       "      <td>1.175053</td>\n",
       "      <td>0.617755</td>\n",
       "      <td>1.030798</td>\n",
       "      <td>0.620660</td>\n",
       "      <td>0.500070</td>\n",
       "    </tr>\n",
       "    <tr>\n",
       "      <th>min</th>\n",
       "      <td>29.000000</td>\n",
       "      <td>0.000000</td>\n",
       "      <td>0.000000</td>\n",
       "      <td>94.000000</td>\n",
       "      <td>126.00000</td>\n",
       "      <td>0.000000</td>\n",
       "      <td>0.000000</td>\n",
       "      <td>71.000000</td>\n",
       "      <td>0.000000</td>\n",
       "      <td>0.000000</td>\n",
       "      <td>0.000000</td>\n",
       "      <td>0.000000</td>\n",
       "      <td>0.000000</td>\n",
       "      <td>0.000000</td>\n",
       "    </tr>\n",
       "    <tr>\n",
       "      <th>25%</th>\n",
       "      <td>48.000000</td>\n",
       "      <td>0.000000</td>\n",
       "      <td>0.000000</td>\n",
       "      <td>120.000000</td>\n",
       "      <td>211.00000</td>\n",
       "      <td>0.000000</td>\n",
       "      <td>0.000000</td>\n",
       "      <td>132.000000</td>\n",
       "      <td>0.000000</td>\n",
       "      <td>0.000000</td>\n",
       "      <td>1.000000</td>\n",
       "      <td>0.000000</td>\n",
       "      <td>2.000000</td>\n",
       "      <td>0.000000</td>\n",
       "    </tr>\n",
       "    <tr>\n",
       "      <th>50%</th>\n",
       "      <td>56.000000</td>\n",
       "      <td>1.000000</td>\n",
       "      <td>1.000000</td>\n",
       "      <td>130.000000</td>\n",
       "      <td>240.00000</td>\n",
       "      <td>0.000000</td>\n",
       "      <td>1.000000</td>\n",
       "      <td>152.000000</td>\n",
       "      <td>0.000000</td>\n",
       "      <td>0.800000</td>\n",
       "      <td>1.000000</td>\n",
       "      <td>0.000000</td>\n",
       "      <td>2.000000</td>\n",
       "      <td>1.000000</td>\n",
       "    </tr>\n",
       "    <tr>\n",
       "      <th>75%</th>\n",
       "      <td>61.000000</td>\n",
       "      <td>1.000000</td>\n",
       "      <td>2.000000</td>\n",
       "      <td>140.000000</td>\n",
       "      <td>275.00000</td>\n",
       "      <td>0.000000</td>\n",
       "      <td>1.000000</td>\n",
       "      <td>166.000000</td>\n",
       "      <td>1.000000</td>\n",
       "      <td>1.800000</td>\n",
       "      <td>2.000000</td>\n",
       "      <td>1.000000</td>\n",
       "      <td>3.000000</td>\n",
       "      <td>1.000000</td>\n",
       "    </tr>\n",
       "    <tr>\n",
       "      <th>max</th>\n",
       "      <td>77.000000</td>\n",
       "      <td>1.000000</td>\n",
       "      <td>3.000000</td>\n",
       "      <td>200.000000</td>\n",
       "      <td>564.00000</td>\n",
       "      <td>1.000000</td>\n",
       "      <td>2.000000</td>\n",
       "      <td>202.000000</td>\n",
       "      <td>1.000000</td>\n",
       "      <td>6.200000</td>\n",
       "      <td>2.000000</td>\n",
       "      <td>4.000000</td>\n",
       "      <td>3.000000</td>\n",
       "      <td>1.000000</td>\n",
       "    </tr>\n",
       "  </tbody>\n",
       "</table>\n",
       "</div>"
      ],
      "text/plain": [
       "               age          sex           cp     trestbps        chol  \\\n",
       "count  1025.000000  1025.000000  1025.000000  1025.000000  1025.00000   \n",
       "mean     54.434146     0.695610     0.942439   131.611707   246.00000   \n",
       "std       9.072290     0.460373     1.029641    17.516718    51.59251   \n",
       "min      29.000000     0.000000     0.000000    94.000000   126.00000   \n",
       "25%      48.000000     0.000000     0.000000   120.000000   211.00000   \n",
       "50%      56.000000     1.000000     1.000000   130.000000   240.00000   \n",
       "75%      61.000000     1.000000     2.000000   140.000000   275.00000   \n",
       "max      77.000000     1.000000     3.000000   200.000000   564.00000   \n",
       "\n",
       "               fbs      restecg      thalach        exang      oldpeak  \\\n",
       "count  1025.000000  1025.000000  1025.000000  1025.000000  1025.000000   \n",
       "mean      0.149268     0.529756   149.114146     0.336585     1.071512   \n",
       "std       0.356527     0.527878    23.005724     0.472772     1.175053   \n",
       "min       0.000000     0.000000    71.000000     0.000000     0.000000   \n",
       "25%       0.000000     0.000000   132.000000     0.000000     0.000000   \n",
       "50%       0.000000     1.000000   152.000000     0.000000     0.800000   \n",
       "75%       0.000000     1.000000   166.000000     1.000000     1.800000   \n",
       "max       1.000000     2.000000   202.000000     1.000000     6.200000   \n",
       "\n",
       "             slope           ca         thal       target  \n",
       "count  1025.000000  1025.000000  1025.000000  1025.000000  \n",
       "mean      1.385366     0.754146     2.323902     0.513171  \n",
       "std       0.617755     1.030798     0.620660     0.500070  \n",
       "min       0.000000     0.000000     0.000000     0.000000  \n",
       "25%       1.000000     0.000000     2.000000     0.000000  \n",
       "50%       1.000000     0.000000     2.000000     1.000000  \n",
       "75%       2.000000     1.000000     3.000000     1.000000  \n",
       "max       2.000000     4.000000     3.000000     1.000000  "
      ]
     },
     "execution_count": 354,
     "metadata": {},
     "output_type": "execute_result"
    }
   ],
   "source": [
    "data.describe()"
   ]
  },
  {
   "cell_type": "markdown",
   "id": "0e90a9f7-4283-49e4-9a80-a34c77053e89",
   "metadata": {},
   "source": [
    "1. Sex : 0=Male, 1=Female : 2 values\n",
    "2. cp[Chest pain] :  0 :\" typical_angina\", 1:\"atypical_angina\" , 2: \"non-anginal pain\", 3: \"asymtomatic\"\n",
    "3. trestbps[resting blood pressure] : A normal BP is of 120/80 mmHg\n",
    "4. chol[Cholestrol]\n",
    "5. fts[Fasting Blood Pressure] = 1: \"True\", 0: \"False\"\n",
    "6. slope = 0 : \"upsloping\", 1: \"flat\", 2: \"downsloping\"\n",
    "7. thal = 1: \"fixed_defect\", 2 : \"reversable_defect\", 3 :\"normal\"\n",
    "8. target= 1 : \"Disease\", 0: \"No_disease\" \n",
    "9. Rest ecg 0 : normal, 1:ST-T wave abnormality, 2 : left ventricular hypertrophy.\n",
    "10. thalach is max heart rate\n",
    "11. exang is exercise induced angina\n",
    "12. ca ranges from 0 to 3"
   ]
  },
  {
   "cell_type": "markdown",
   "id": "ab00747c-11f0-42fc-baf5-23b75fda4922",
   "metadata": {},
   "source": [
    "6. Check for null values in all the columns"
   ]
  },
  {
   "cell_type": "code",
   "execution_count": 355,
   "id": "bbb4f6e6-4554-4e90-9f98-33c46f7fd2b4",
   "metadata": {},
   "outputs": [
    {
     "data": {
      "text/plain": [
       "age         0\n",
       "sex         0\n",
       "cp          0\n",
       "trestbps    0\n",
       "chol        0\n",
       "fbs         0\n",
       "restecg     0\n",
       "thalach     0\n",
       "exang       0\n",
       "oldpeak     0\n",
       "slope       0\n",
       "ca          0\n",
       "thal        0\n",
       "target      0\n",
       "dtype: int64"
      ]
     },
     "execution_count": 355,
     "metadata": {},
     "output_type": "execute_result"
    }
   ],
   "source": [
    "pd.isnull(data).sum()\n",
    "#isnull will display boolean values( 0 for false, 1 for true. If sum is 0 which means there is no null value. \n",
    "#If there's an x sum which means x rows has null values)"
   ]
  },
  {
   "cell_type": "code",
   "execution_count": 356,
   "id": "05f573c8-d45f-4bb8-b88e-189041b6c0bb",
   "metadata": {},
   "outputs": [
    {
     "data": {
      "text/plain": [
       "age          41\n",
       "sex           2\n",
       "cp            4\n",
       "trestbps     49\n",
       "chol        152\n",
       "fbs           2\n",
       "restecg       3\n",
       "thalach      91\n",
       "exang         2\n",
       "oldpeak      40\n",
       "slope         3\n",
       "ca            5\n",
       "thal          4\n",
       "target        2\n",
       "dtype: int64"
      ]
     },
     "execution_count": 356,
     "metadata": {},
     "output_type": "execute_result"
    }
   ],
   "source": [
    "#Unique values of each column\n",
    "data.nunique()"
   ]
  },
  {
   "cell_type": "code",
   "execution_count": 357,
   "id": "35ab9fd3-46a3-41cf-8afa-a1ac8119d580",
   "metadata": {},
   "outputs": [
    {
     "data": {
      "text/plain": [
       "array([2, 0, 1, 3, 4], dtype=int64)"
      ]
     },
     "execution_count": 357,
     "metadata": {},
     "output_type": "execute_result"
    }
   ],
   "source": [
    "#To find distinct values of a column\n",
    "data['ca'].unique()"
   ]
  },
  {
   "cell_type": "code",
   "execution_count": 358,
   "id": "2a810fda-44b4-4f34-ad5b-c602bbf26cda",
   "metadata": {},
   "outputs": [
    {
     "data": {
      "text/plain": [
       "array([3, 2, 1, 0], dtype=int64)"
      ]
     },
     "execution_count": 358,
     "metadata": {},
     "output_type": "execute_result"
    }
   ],
   "source": [
    "# thal ranges from 1-3\n",
    "data['thal'].unique()"
   ]
  },
  {
   "cell_type": "markdown",
   "id": "373c99c4-8704-4705-b9aa-588da3a61097",
   "metadata": {},
   "source": [
    "Observation : \n",
    "1. We found that ca ranges from 0-3 but max values shows as 4\n",
    "2. And similarly thal ranges from 1-3, but min value has 0 which is invalid\n",
    "3. We also see there's no null values. Hence we need to convert invalid data into NAN"
   ]
  },
  {
   "cell_type": "markdown",
   "id": "8a915a1d-1ad1-4458-88a5-8b5be1e2d932",
   "metadata": {},
   "source": [
    "Need to convert invalid data into NAN"
   ]
  },
  {
   "cell_type": "markdown",
   "id": "c52cf45b-cb5d-4d90-bb41-bffca8b147cd",
   "metadata": {},
   "source": [
    "1. CA"
   ]
  },
  {
   "cell_type": "code",
   "execution_count": 359,
   "id": "d25550bf-e1ff-4bc6-8ab5-c4a1a2d05053",
   "metadata": {},
   "outputs": [
    {
     "data": {
      "text/plain": [
       "ca\n",
       "0    578\n",
       "1    226\n",
       "2    134\n",
       "3     69\n",
       "4     18\n",
       "Name: count, dtype: int64"
      ]
     },
     "execution_count": 359,
     "metadata": {},
     "output_type": "execute_result"
    }
   ],
   "source": [
    "#To count the number of values in each category\n",
    "data.ca.value_counts()\n",
    "##To display rows where ca = 4\n",
    "# data[data['ca'] == 4]"
   ]
  },
  {
   "cell_type": "code",
   "execution_count": 360,
   "id": "b0e46fcd-af66-4618-ace8-b137789eb848",
   "metadata": {},
   "outputs": [],
   "source": [
    "#Lets convert 18 rows of invalid data to NaN\n",
    "data.loc[data['ca'] == 4, 'ca'] = np.NaN"
   ]
  },
  {
   "cell_type": "code",
   "execution_count": 361,
   "id": "d6dfa584-d8cf-4e2c-a0aa-bf82f5ce1d84",
   "metadata": {},
   "outputs": [
    {
     "data": {
      "text/plain": [
       "array([ 2.,  0.,  1.,  3., nan])"
      ]
     },
     "execution_count": 361,
     "metadata": {},
     "output_type": "execute_result"
    }
   ],
   "source": [
    "data['ca'].unique()\n"
   ]
  },
  {
   "cell_type": "markdown",
   "id": "c23bfd41-0709-4f6c-a189-5d5c9c4caa2b",
   "metadata": {},
   "source": [
    "2. THAL"
   ]
  },
  {
   "cell_type": "code",
   "execution_count": 362,
   "id": "c34051a2-f82b-44a5-86e9-1b5000cb4b65",
   "metadata": {},
   "outputs": [
    {
     "data": {
      "text/plain": [
       "thal\n",
       "2    544\n",
       "3    410\n",
       "1     64\n",
       "0      7\n",
       "Name: count, dtype: int64"
      ]
     },
     "execution_count": 362,
     "metadata": {},
     "output_type": "execute_result"
    }
   ],
   "source": [
    "data.thal.value_counts()"
   ]
  },
  {
   "cell_type": "code",
   "execution_count": 363,
   "id": "bef1d1e6-35c4-4886-81a4-717420394183",
   "metadata": {},
   "outputs": [],
   "source": [
    "#There are 7 values for 0, hence change it to NaN\n",
    "data.loc[data['thal'] == 0, 'thal'] = np.NaN"
   ]
  },
  {
   "cell_type": "code",
   "execution_count": 364,
   "id": "598d8865-3f22-4738-994b-42787006da3e",
   "metadata": {},
   "outputs": [
    {
     "data": {
      "text/html": [
       "<div>\n",
       "<style scoped>\n",
       "    .dataframe tbody tr th:only-of-type {\n",
       "        vertical-align: middle;\n",
       "    }\n",
       "\n",
       "    .dataframe tbody tr th {\n",
       "        vertical-align: top;\n",
       "    }\n",
       "\n",
       "    .dataframe thead th {\n",
       "        text-align: right;\n",
       "    }\n",
       "</style>\n",
       "<table border=\"1\" class=\"dataframe\">\n",
       "  <thead>\n",
       "    <tr style=\"text-align: right;\">\n",
       "      <th></th>\n",
       "      <th>age</th>\n",
       "      <th>sex</th>\n",
       "      <th>cp</th>\n",
       "      <th>trestbps</th>\n",
       "      <th>chol</th>\n",
       "      <th>fbs</th>\n",
       "      <th>restecg</th>\n",
       "      <th>thalach</th>\n",
       "      <th>exang</th>\n",
       "      <th>oldpeak</th>\n",
       "      <th>slope</th>\n",
       "      <th>ca</th>\n",
       "      <th>thal</th>\n",
       "      <th>target</th>\n",
       "    </tr>\n",
       "  </thead>\n",
       "  <tbody>\n",
       "  </tbody>\n",
       "</table>\n",
       "</div>"
      ],
      "text/plain": [
       "Empty DataFrame\n",
       "Columns: [age, sex, cp, trestbps, chol, fbs, restecg, thalach, exang, oldpeak, slope, ca, thal, target]\n",
       "Index: []"
      ]
     },
     "execution_count": 364,
     "metadata": {},
     "output_type": "execute_result"
    }
   ],
   "source": [
    "data[data['thal']==0]"
   ]
  },
  {
   "cell_type": "code",
   "execution_count": 365,
   "id": "96775418-2256-472f-a7d4-8f5445d89cba",
   "metadata": {},
   "outputs": [
    {
     "data": {
      "text/plain": [
       "array([ 3.,  2.,  1., nan])"
      ]
     },
     "execution_count": 365,
     "metadata": {},
     "output_type": "execute_result"
    }
   ],
   "source": [
    "data['thal'].unique()"
   ]
  },
  {
   "cell_type": "markdown",
   "id": "b3e0a532-18a4-4e4d-bc9a-9ae80b0d60e2",
   "metadata": {},
   "source": [
    "DEALING WITH NAN values"
   ]
  },
  {
   "cell_type": "markdown",
   "id": "f27f82c0-1b0a-4b74-8e2e-2d77fdb444ff",
   "metadata": {},
   "source": [
    "STEP 1: Check for columns and empty rows"
   ]
  },
  {
   "cell_type": "code",
   "execution_count": 366,
   "id": "051fa8c1-5fb3-4a1d-9da3-ef37aa841059",
   "metadata": {},
   "outputs": [
    {
     "data": {
      "text/plain": [
       "age          0\n",
       "sex          0\n",
       "cp           0\n",
       "trestbps     0\n",
       "chol         0\n",
       "fbs          0\n",
       "restecg      0\n",
       "thalach      0\n",
       "exang        0\n",
       "oldpeak      0\n",
       "slope        0\n",
       "ca          18\n",
       "thal         7\n",
       "target       0\n",
       "dtype: int64"
      ]
     },
     "execution_count": 366,
     "metadata": {},
     "output_type": "execute_result"
    }
   ],
   "source": [
    "data.isnull().sum()\n",
    "\n"
   ]
  },
  {
   "cell_type": "code",
   "execution_count": 367,
   "id": "deb1b6c1-7e76-4471-91a8-39661024a4aa",
   "metadata": {},
   "outputs": [
    {
     "data": {
      "text/html": [
       "<div>\n",
       "<style scoped>\n",
       "    .dataframe tbody tr th:only-of-type {\n",
       "        vertical-align: middle;\n",
       "    }\n",
       "\n",
       "    .dataframe tbody tr th {\n",
       "        vertical-align: top;\n",
       "    }\n",
       "\n",
       "    .dataframe thead th {\n",
       "        text-align: right;\n",
       "    }\n",
       "</style>\n",
       "<table border=\"1\" class=\"dataframe\">\n",
       "  <thead>\n",
       "    <tr style=\"text-align: right;\">\n",
       "      <th></th>\n",
       "      <th>age</th>\n",
       "      <th>sex</th>\n",
       "      <th>cp</th>\n",
       "      <th>trestbps</th>\n",
       "      <th>chol</th>\n",
       "      <th>fbs</th>\n",
       "      <th>restecg</th>\n",
       "      <th>thalach</th>\n",
       "      <th>exang</th>\n",
       "      <th>oldpeak</th>\n",
       "      <th>slope</th>\n",
       "      <th>ca</th>\n",
       "      <th>thal</th>\n",
       "      <th>target</th>\n",
       "    </tr>\n",
       "  </thead>\n",
       "  <tbody>\n",
       "    <tr>\n",
       "      <th>0</th>\n",
       "      <td>52</td>\n",
       "      <td>1</td>\n",
       "      <td>0</td>\n",
       "      <td>125</td>\n",
       "      <td>212</td>\n",
       "      <td>0</td>\n",
       "      <td>1</td>\n",
       "      <td>168</td>\n",
       "      <td>0</td>\n",
       "      <td>1.0</td>\n",
       "      <td>2</td>\n",
       "      <td>2.0</td>\n",
       "      <td>3.0</td>\n",
       "      <td>0</td>\n",
       "    </tr>\n",
       "    <tr>\n",
       "      <th>1</th>\n",
       "      <td>53</td>\n",
       "      <td>1</td>\n",
       "      <td>0</td>\n",
       "      <td>140</td>\n",
       "      <td>203</td>\n",
       "      <td>1</td>\n",
       "      <td>0</td>\n",
       "      <td>155</td>\n",
       "      <td>1</td>\n",
       "      <td>3.1</td>\n",
       "      <td>0</td>\n",
       "      <td>0.0</td>\n",
       "      <td>3.0</td>\n",
       "      <td>0</td>\n",
       "    </tr>\n",
       "    <tr>\n",
       "      <th>2</th>\n",
       "      <td>70</td>\n",
       "      <td>1</td>\n",
       "      <td>0</td>\n",
       "      <td>145</td>\n",
       "      <td>174</td>\n",
       "      <td>0</td>\n",
       "      <td>1</td>\n",
       "      <td>125</td>\n",
       "      <td>1</td>\n",
       "      <td>2.6</td>\n",
       "      <td>0</td>\n",
       "      <td>0.0</td>\n",
       "      <td>3.0</td>\n",
       "      <td>0</td>\n",
       "    </tr>\n",
       "  </tbody>\n",
       "</table>\n",
       "</div>"
      ],
      "text/plain": [
       "   age  sex  cp  trestbps  chol  fbs  restecg  thalach  exang  oldpeak  slope  \\\n",
       "0   52    1   0       125   212    0        1      168      0      1.0      2   \n",
       "1   53    1   0       140   203    1        0      155      1      3.1      0   \n",
       "2   70    1   0       145   174    0        1      125      1      2.6      0   \n",
       "\n",
       "    ca  thal  target  \n",
       "0  2.0   3.0       0  \n",
       "1  0.0   3.0       0  \n",
       "2  0.0   3.0       0  "
      ]
     },
     "execution_count": 367,
     "metadata": {},
     "output_type": "execute_result"
    }
   ],
   "source": [
    "data.head(3)\n"
   ]
  },
  {
   "cell_type": "markdown",
   "id": "9239498f-8563-4d64-a111-20dd953210cb",
   "metadata": {},
   "source": [
    "STEP 2 : To seelct which technique to use, lets plot distribution chart"
   ]
  },
  {
   "cell_type": "code",
   "execution_count": 368,
   "id": "30db3fd2-3f39-4e76-9f0b-6bf1a6ef8cf3",
   "metadata": {},
   "outputs": [
    {
     "data": {
      "text/plain": [
       "<seaborn.axisgrid.FacetGrid at 0x1dea9d6fd70>"
      ]
     },
     "execution_count": 368,
     "metadata": {},
     "output_type": "execute_result"
    },
    {
     "data": {
      "image/png": "[encoded data removed]",
      "text/plain": [
       "<Figure size 500x500 with 1 Axes>"
      ]
     },
     "metadata": {},
     "output_type": "display_data"
    }
   ],
   "source": [
    "sns.displot(data['ca'])"
   ]
  },
  {
   "cell_type": "markdown",
   "id": "020ed57a-0167-4f98-be14-4b067b9bcf59",
   "metadata": {},
   "source": [
    "Observation: There is skewness in the above chart. Hence we need to use median technique to fill NaN values"
   ]
  },
  {
   "cell_type": "code",
   "execution_count": 369,
   "id": "979b65f3-4917-46b9-a224-2d9c12b07056",
   "metadata": {},
   "outputs": [],
   "source": [
    "col = data['ca']\n",
    "col = col.fillna(col.median())\n"
   ]
  },
  {
   "cell_type": "code",
   "execution_count": 370,
   "id": "974b5484-a660-4ee4-bcb3-6a1468920662",
   "metadata": {},
   "outputs": [
    {
     "data": {
      "text/plain": [
       "age          0\n",
       "sex          0\n",
       "cp           0\n",
       "trestbps     0\n",
       "chol         0\n",
       "fbs          0\n",
       "restecg      0\n",
       "thalach      0\n",
       "exang        0\n",
       "oldpeak      0\n",
       "slope        0\n",
       "ca          18\n",
       "thal         7\n",
       "target       0\n",
       "dtype: int64"
      ]
     },
     "execution_count": 370,
     "metadata": {},
     "output_type": "execute_result"
    }
   ],
   "source": [
    "data.isnull().sum()"
   ]
  },
  {
   "cell_type": "markdown",
   "id": "7a60444e-2046-48ed-bacf-24229c7e04a3",
   "metadata": {},
   "source": [
    "We have extracted and dealt with invalid and missing data\n",
    "Now, lets format the column name as user understandable format"
   ]
  },
  {
   "cell_type": "code",
   "execution_count": 371,
   "id": "dc407569-a7e3-457d-a37b-8c5cd33b10d3",
   "metadata": {},
   "outputs": [],
   "source": [
    "#Change the values with proper names\n",
    "data['sex'] = data.sex.replace({1: \"Male\", 0: \"Female\"})\n",
    "data['cp'] = data.cp.replace({ 0 :\" typical_angina\", 1:\"atypical_angina\" , 2: \"non-anginal pain\", 3: \"asymtomatic\"})\n",
    "data['exang'] = data.exang.replace({0: \"No\", 1: \"yes\"})\n",
    "data['fbs'] = data.fbs.replace({1: \"True\", 0: \"False\"})\n",
    "data['slope'] = data.slope.replace({0 : \"upsloping\", 1: \"flat\", 2: \"downsloping\"})\n",
    "data['thal'] = data.thal.replace({ 1: \"fixed_defect\", 2 : \"reversable_defect\", 3 :\"normal\"})\n",
    "data['target'] = data.target.replace({ 1 : \"Disease\", 0: \"No_disease\"})"
   ]
  },
  {
   "cell_type": "code",
   "execution_count": 372,
   "id": "83d7947e-58cd-46ec-a447-1aad0ad9cb1c",
   "metadata": {},
   "outputs": [
    {
     "data": {
      "text/html": [
       "<div>\n",
       "<style scoped>\n",
       "    .dataframe tbody tr th:only-of-type {\n",
       "        vertical-align: middle;\n",
       "    }\n",
       "\n",
       "    .dataframe tbody tr th {\n",
       "        vertical-align: top;\n",
       "    }\n",
       "\n",
       "    .dataframe thead th {\n",
       "        text-align: right;\n",
       "    }\n",
       "</style>\n",
       "<table border=\"1\" class=\"dataframe\">\n",
       "  <thead>\n",
       "    <tr style=\"text-align: right;\">\n",
       "      <th></th>\n",
       "      <th>age</th>\n",
       "      <th>sex</th>\n",
       "      <th>cp</th>\n",
       "      <th>trestbps</th>\n",
       "      <th>chol</th>\n",
       "      <th>fbs</th>\n",
       "      <th>restecg</th>\n",
       "      <th>thalach</th>\n",
       "      <th>exang</th>\n",
       "      <th>oldpeak</th>\n",
       "      <th>slope</th>\n",
       "      <th>ca</th>\n",
       "      <th>thal</th>\n",
       "      <th>target</th>\n",
       "    </tr>\n",
       "  </thead>\n",
       "  <tbody>\n",
       "    <tr>\n",
       "      <th>0</th>\n",
       "      <td>52</td>\n",
       "      <td>Male</td>\n",
       "      <td>typical_angina</td>\n",
       "      <td>125</td>\n",
       "      <td>212</td>\n",
       "      <td>False</td>\n",
       "      <td>1</td>\n",
       "      <td>168</td>\n",
       "      <td>No</td>\n",
       "      <td>1.0</td>\n",
       "      <td>downsloping</td>\n",
       "      <td>2.0</td>\n",
       "      <td>normal</td>\n",
       "      <td>No_disease</td>\n",
       "    </tr>\n",
       "    <tr>\n",
       "      <th>1</th>\n",
       "      <td>53</td>\n",
       "      <td>Male</td>\n",
       "      <td>typical_angina</td>\n",
       "      <td>140</td>\n",
       "      <td>203</td>\n",
       "      <td>True</td>\n",
       "      <td>0</td>\n",
       "      <td>155</td>\n",
       "      <td>yes</td>\n",
       "      <td>3.1</td>\n",
       "      <td>upsloping</td>\n",
       "      <td>0.0</td>\n",
       "      <td>normal</td>\n",
       "      <td>No_disease</td>\n",
       "    </tr>\n",
       "    <tr>\n",
       "      <th>2</th>\n",
       "      <td>70</td>\n",
       "      <td>Male</td>\n",
       "      <td>typical_angina</td>\n",
       "      <td>145</td>\n",
       "      <td>174</td>\n",
       "      <td>False</td>\n",
       "      <td>1</td>\n",
       "      <td>125</td>\n",
       "      <td>yes</td>\n",
       "      <td>2.6</td>\n",
       "      <td>upsloping</td>\n",
       "      <td>0.0</td>\n",
       "      <td>normal</td>\n",
       "      <td>No_disease</td>\n",
       "    </tr>\n",
       "    <tr>\n",
       "      <th>3</th>\n",
       "      <td>61</td>\n",
       "      <td>Male</td>\n",
       "      <td>typical_angina</td>\n",
       "      <td>148</td>\n",
       "      <td>203</td>\n",
       "      <td>False</td>\n",
       "      <td>1</td>\n",
       "      <td>161</td>\n",
       "      <td>No</td>\n",
       "      <td>0.0</td>\n",
       "      <td>downsloping</td>\n",
       "      <td>1.0</td>\n",
       "      <td>normal</td>\n",
       "      <td>No_disease</td>\n",
       "    </tr>\n",
       "    <tr>\n",
       "      <th>4</th>\n",
       "      <td>62</td>\n",
       "      <td>Female</td>\n",
       "      <td>typical_angina</td>\n",
       "      <td>138</td>\n",
       "      <td>294</td>\n",
       "      <td>True</td>\n",
       "      <td>1</td>\n",
       "      <td>106</td>\n",
       "      <td>No</td>\n",
       "      <td>1.9</td>\n",
       "      <td>flat</td>\n",
       "      <td>3.0</td>\n",
       "      <td>reversable_defect</td>\n",
       "      <td>No_disease</td>\n",
       "    </tr>\n",
       "    <tr>\n",
       "      <th>...</th>\n",
       "      <td>...</td>\n",
       "      <td>...</td>\n",
       "      <td>...</td>\n",
       "      <td>...</td>\n",
       "      <td>...</td>\n",
       "      <td>...</td>\n",
       "      <td>...</td>\n",
       "      <td>...</td>\n",
       "      <td>...</td>\n",
       "      <td>...</td>\n",
       "      <td>...</td>\n",
       "      <td>...</td>\n",
       "      <td>...</td>\n",
       "      <td>...</td>\n",
       "    </tr>\n",
       "    <tr>\n",
       "      <th>1020</th>\n",
       "      <td>59</td>\n",
       "      <td>Male</td>\n",
       "      <td>atypical_angina</td>\n",
       "      <td>140</td>\n",
       "      <td>221</td>\n",
       "      <td>False</td>\n",
       "      <td>1</td>\n",
       "      <td>164</td>\n",
       "      <td>yes</td>\n",
       "      <td>0.0</td>\n",
       "      <td>downsloping</td>\n",
       "      <td>0.0</td>\n",
       "      <td>reversable_defect</td>\n",
       "      <td>Disease</td>\n",
       "    </tr>\n",
       "    <tr>\n",
       "      <th>1021</th>\n",
       "      <td>60</td>\n",
       "      <td>Male</td>\n",
       "      <td>typical_angina</td>\n",
       "      <td>125</td>\n",
       "      <td>258</td>\n",
       "      <td>False</td>\n",
       "      <td>0</td>\n",
       "      <td>141</td>\n",
       "      <td>yes</td>\n",
       "      <td>2.8</td>\n",
       "      <td>flat</td>\n",
       "      <td>1.0</td>\n",
       "      <td>normal</td>\n",
       "      <td>No_disease</td>\n",
       "    </tr>\n",
       "    <tr>\n",
       "      <th>1022</th>\n",
       "      <td>47</td>\n",
       "      <td>Male</td>\n",
       "      <td>typical_angina</td>\n",
       "      <td>110</td>\n",
       "      <td>275</td>\n",
       "      <td>False</td>\n",
       "      <td>0</td>\n",
       "      <td>118</td>\n",
       "      <td>yes</td>\n",
       "      <td>1.0</td>\n",
       "      <td>flat</td>\n",
       "      <td>1.0</td>\n",
       "      <td>reversable_defect</td>\n",
       "      <td>No_disease</td>\n",
       "    </tr>\n",
       "    <tr>\n",
       "      <th>1023</th>\n",
       "      <td>50</td>\n",
       "      <td>Female</td>\n",
       "      <td>typical_angina</td>\n",
       "      <td>110</td>\n",
       "      <td>254</td>\n",
       "      <td>False</td>\n",
       "      <td>0</td>\n",
       "      <td>159</td>\n",
       "      <td>No</td>\n",
       "      <td>0.0</td>\n",
       "      <td>downsloping</td>\n",
       "      <td>0.0</td>\n",
       "      <td>reversable_defect</td>\n",
       "      <td>Disease</td>\n",
       "    </tr>\n",
       "    <tr>\n",
       "      <th>1024</th>\n",
       "      <td>54</td>\n",
       "      <td>Male</td>\n",
       "      <td>typical_angina</td>\n",
       "      <td>120</td>\n",
       "      <td>188</td>\n",
       "      <td>False</td>\n",
       "      <td>1</td>\n",
       "      <td>113</td>\n",
       "      <td>No</td>\n",
       "      <td>1.4</td>\n",
       "      <td>flat</td>\n",
       "      <td>1.0</td>\n",
       "      <td>normal</td>\n",
       "      <td>No_disease</td>\n",
       "    </tr>\n",
       "  </tbody>\n",
       "</table>\n",
       "<p>1025 rows × 14 columns</p>\n",
       "</div>"
      ],
      "text/plain": [
       "      age     sex               cp  trestbps  chol    fbs  restecg  thalach  \\\n",
       "0      52    Male   typical_angina       125   212  False        1      168   \n",
       "1      53    Male   typical_angina       140   203   True        0      155   \n",
       "2      70    Male   typical_angina       145   174  False        1      125   \n",
       "3      61    Male   typical_angina       148   203  False        1      161   \n",
       "4      62  Female   typical_angina       138   294   True        1      106   \n",
       "...   ...     ...              ...       ...   ...    ...      ...      ...   \n",
       "1020   59    Male  atypical_angina       140   221  False        1      164   \n",
       "1021   60    Male   typical_angina       125   258  False        0      141   \n",
       "1022   47    Male   typical_angina       110   275  False        0      118   \n",
       "1023   50  Female   typical_angina       110   254  False        0      159   \n",
       "1024   54    Male   typical_angina       120   188  False        1      113   \n",
       "\n",
       "     exang  oldpeak        slope   ca               thal      target  \n",
       "0       No      1.0  downsloping  2.0             normal  No_disease  \n",
       "1      yes      3.1    upsloping  0.0             normal  No_disease  \n",
       "2      yes      2.6    upsloping  0.0             normal  No_disease  \n",
       "3       No      0.0  downsloping  1.0             normal  No_disease  \n",
       "4       No      1.9         flat  3.0  reversable_defect  No_disease  \n",
       "...    ...      ...          ...  ...                ...         ...  \n",
       "1020   yes      0.0  downsloping  0.0  reversable_defect     Disease  \n",
       "1021   yes      2.8         flat  1.0             normal  No_disease  \n",
       "1022   yes      1.0         flat  1.0  reversable_defect  No_disease  \n",
       "1023    No      0.0  downsloping  0.0  reversable_defect     Disease  \n",
       "1024    No      1.4         flat  1.0             normal  No_disease  \n",
       "\n",
       "[1025 rows x 14 columns]"
      ]
     },
     "execution_count": 372,
     "metadata": {},
     "output_type": "execute_result"
    }
   ],
   "source": [
    "data"
   ]
  },
  {
   "cell_type": "markdown",
   "id": "425507d3-4a77-4c53-ba0c-1a7d7b7cfc14",
   "metadata": {},
   "source": [
    "# Data Visualization\n"
   ]
  },
  {
   "cell_type": "markdown",
   "id": "a98f6d6a-c7d1-4cdd-9de0-039384c44268",
   "metadata": {},
   "source": [
    "Disease"
   ]
  },
  {
   "cell_type": "code",
   "execution_count": 409,
   "id": "26619703-7f45-4905-a6b9-719e7634d7e1",
   "metadata": {},
   "outputs": [
    {
     "data": {
      "text/plain": [
       "Text(0.5, 1.0, 'Number of patients with/without disease')"
      ]
     },
     "execution_count": 409,
     "metadata": {},
     "output_type": "execute_result"
    },
    {
     "data": {
      "image/png": "[encoded data removed]",
      "text/plain": [
       "<Figure size 640x480 with 1 Axes>"
      ]
     },
     "metadata": {},
     "output_type": "display_data"
    }
   ],
   "source": [
    "sns.countplot(x='target', data= data, hue='target', palette='dark:pink')\n",
    "plt.title(\"Number of patients with/without disease\")\n",
    "#plt.grid(color='w',linestyle = '--', linewidth = 0.5)"
   ]
  },
  {
   "cell_type": "code",
   "execution_count": 374,
   "id": "c2a52311-01d1-4501-9c92-94930aca70a1",
   "metadata": {},
   "outputs": [
    {
     "data": {
      "text/plain": [
       "target\n",
       "Disease       526\n",
       "No_disease    499\n",
       "Name: count, dtype: int64"
      ]
     },
     "execution_count": 374,
     "metadata": {},
     "output_type": "execute_result"
    }
   ],
   "source": [
    "#Plotting a bar chart for number of patients with disease and no disease\n",
    "data.target.value_counts()\n"
   ]
  },
  {
   "cell_type": "raw",
   "id": "83601f37-e0cf-42bb-a7b0-84bd9739c2b0",
   "metadata": {},
   "source": []
  },
  {
   "cell_type": "code",
   "execution_count": 410,
   "id": "af1a5355-c16f-4068-ac07-965978b5b47e",
   "metadata": {},
   "outputs": [
    {
     "data": {
      "text/plain": [
       "Text(0.5, 1.0, 'Number of patients with/without disease with sex')"
      ]
     },
     "execution_count": 410,
     "metadata": {},
     "output_type": "execute_result"
    },
    {
     "data": {
      "image/png": "[encoded data removed]",
      "text/plain": [
       "<Figure size 640x480 with 1 Axes>"
      ]
     },
     "metadata": {},
     "output_type": "display_data"
    }
   ],
   "source": [
    "sns.countplot(x='target', data= data, hue='sex',palette='dark:pink')\n",
    "plt.title(\"Number of patients with/without disease with sex\")"
   ]
  },
  {
   "cell_type": "markdown",
   "id": "96ac4ae8-c3cf-444f-a76a-17a46af88de8",
   "metadata": {},
   "source": [
    "WE SEE AROUND 526 PEOPLE OUT OF 1025 ARE AFFECTED WITH DISEASE\n",
    "we can observe that among disease patients, male are higher than female."
   ]
  },
  {
   "cell_type": "raw",
   "id": "b21e24aa-d49d-4474-822d-2ac36e921233",
   "metadata": {},
   "source": []
  },
  {
   "cell_type": "code",
   "execution_count": 412,
   "id": "20c6850d-5405-4e9f-9701-5ec5d9b31ed9",
   "metadata": {},
   "outputs": [
    {
     "data": {
      "text/plain": [
       "Text(0.5, 1.0, 'Percentage of patients on gender')"
      ]
     },
     "execution_count": 412,
     "metadata": {},
     "output_type": "execute_result"
    },
    {
     "data": {
      "image/png": "[encoded data removed]",
      "text/plain": [
       "<Figure size 640x480 with 1 Axes>"
      ]
     },
     "metadata": {},
     "output_type": "display_data"
    }
   ],
   "source": [
    "#Percentage of male patients vs female\n",
    "disease['sex'].value_counts().plot.pie(autopct='%.2f')\n",
    "plt.title(\"Percentage of patients on gender\")"
   ]
  },
  {
   "cell_type": "code",
   "execution_count": 377,
   "id": "db44a4be-cb09-4398-a81e-6236ee8fbd89",
   "metadata": {},
   "outputs": [
    {
     "data": {
      "text/plain": [
       "sex\n",
       "Male      713\n",
       "Female    312\n",
       "Name: count, dtype: int64"
      ]
     },
     "execution_count": 377,
     "metadata": {},
     "output_type": "execute_result"
    }
   ],
   "source": [
    "data.sex.value_counts()"
   ]
  },
  {
   "cell_type": "code",
   "execution_count": 378,
   "id": "38ab2c19-51d0-47ad-a724-31266d5f67b0",
   "metadata": {},
   "outputs": [],
   "source": [
    "disease = data[data['target'] == 'Disease']"
   ]
  },
  {
   "cell_type": "code",
   "execution_count": 379,
   "id": "808c9ead-5e6e-4eb5-b213-3627733878cb",
   "metadata": {},
   "outputs": [
    {
     "data": {
      "text/plain": [
       "sex\n",
       "Male      300\n",
       "Female    226\n",
       "Name: count, dtype: int64"
      ]
     },
     "execution_count": 379,
     "metadata": {},
     "output_type": "execute_result"
    }
   ],
   "source": [
    "#SEX value count who has got the disease\n",
    "disease.sex.value_counts()"
   ]
  },
  {
   "cell_type": "markdown",
   "id": "dd203361-2b8d-448e-9d34-1f10a13b7369",
   "metadata": {},
   "source": [
    "WE SEE AROUND 300/713 MALE AND 226/312 FEMALE WHO ARE AFFECTED BY DISEASE.\n"
   ]
  },
  {
   "cell_type": "raw",
   "id": "841ed55c-9081-473d-8f10-278d9436c816",
   "metadata": {},
   "source": []
  },
  {
   "cell_type": "markdown",
   "id": "25989867-2ae1-45e3-814f-27817e4e41d6",
   "metadata": {},
   "source": [
    "PAIN TYPE"
   ]
  },
  {
   "cell_type": "code",
   "execution_count": 414,
   "id": "30550412-31f9-4d1d-ad91-299dcbc2e0ba",
   "metadata": {},
   "outputs": [
    {
     "data": {
      "text/plain": [
       "Text(0.5, 1.0, 'Chest pain type on target variable')"
      ]
     },
     "execution_count": 414,
     "metadata": {},
     "output_type": "execute_result"
    },
    {
     "data": {
      "image/png": "[encoded data removed]",
      "text/plain": [
       "<Figure size 640x480 with 1 Axes>"
      ]
     },
     "metadata": {},
     "output_type": "display_data"
    }
   ],
   "source": [
    "#Chest pain type based on target variable.\n",
    "sns.barplot(y='age', x='cp', data=data, hue='target',palette='dark:pink')\n",
    "plt.title(\"Chest pain type on target variable\")"
   ]
  },
  {
   "cell_type": "code",
   "execution_count": 381,
   "id": "68bb0bde-35eb-4066-8668-a6d6f509bade",
   "metadata": {},
   "outputs": [
    {
     "data": {
      "text/plain": [
       "cp\n",
       " typical_angina     497\n",
       "non-anginal pain    284\n",
       "atypical_angina     167\n",
       "asymtomatic          77\n",
       "Name: count, dtype: int64"
      ]
     },
     "execution_count": 381,
     "metadata": {},
     "output_type": "execute_result"
    }
   ],
   "source": [
    "data.cp.value_counts()\n"
   ]
  },
  {
   "cell_type": "code",
   "execution_count": null,
   "id": "34c2dbd4-e956-42f3-aebf-4991d8588105",
   "metadata": {},
   "outputs": [],
   "source": []
  },
  {
   "cell_type": "code",
   "execution_count": 416,
   "id": "0385d9a4-96cd-4eec-9bd9-216496dc3fba",
   "metadata": {},
   "outputs": [
    {
     "data": {
      "text/plain": [
       "<seaborn.axisgrid.FacetGrid at 0x1deaed369c0>"
      ]
     },
     "execution_count": 416,
     "metadata": {},
     "output_type": "execute_result"
    },
    {
     "data": {
      "image/png": "[encoded data removed]",
      "text/plain": [
       "<Figure size 500x500 with 1 Axes>"
      ]
     },
     "metadata": {},
     "output_type": "display_data"
    }
   ],
   "source": [
    "#Distribution of the age of the patients\n",
    "sns.displot(data['age'], kde=True)"
   ]
  },
  {
   "cell_type": "markdown",
   "id": "7f5ee690-4214-4c05-b47e-c5672d540a0b",
   "metadata": {},
   "source": [
    "FROM ABOVE GRAPH WE SEE THAT AGE GROUP BETWEEN 50 AND 60HAS GOT CHEST PAIN."
   ]
  },
  {
   "cell_type": "raw",
   "id": "8747d299-3c41-4798-9252-a6db12e4810d",
   "metadata": {},
   "source": []
  },
  {
   "cell_type": "code",
   "execution_count": 417,
   "id": "f28416eb-7e91-4d40-b20a-bde45dffc144",
   "metadata": {},
   "outputs": [
    {
     "data": {
      "text/plain": [
       "<Axes: xlabel='thal', ylabel='age'>"
      ]
     },
     "execution_count": 417,
     "metadata": {},
     "output_type": "execute_result"
    },
    {
     "data": {
      "image/png": "[encoded data removed]",
      "text/plain": [
       "<Figure size 640x480 with 1 Axes>"
      ]
     },
     "metadata": {},
     "output_type": "display_data"
    }
   ],
   "source": [
    "sns.barplot(x='thal', y='age', data=disease, hue='sex', palette='dark:pink')"
   ]
  },
  {
   "cell_type": "code",
   "execution_count": 384,
   "id": "dbcd878f-98db-4f84-99f6-44d8d7e5de2e",
   "metadata": {},
   "outputs": [
    {
     "name": "stdout",
     "output_type": "stream",
     "text": [
      "29\n"
     ]
    }
   ],
   "source": [
    "print(min(data.age))"
   ]
  },
  {
   "cell_type": "code",
   "execution_count": 385,
   "id": "cc59ae19-66e9-4241-852e-4ff3089deb95",
   "metadata": {},
   "outputs": [
    {
     "name": "stdout",
     "output_type": "stream",
     "text": [
      "77\n"
     ]
    }
   ],
   "source": [
    "print(max(data.age))"
   ]
  },
  {
   "cell_type": "code",
   "execution_count": 386,
   "id": "56af9e3c-8bf0-41a2-990a-9b6111af1fd5",
   "metadata": {},
   "outputs": [
    {
     "name": "stdout",
     "output_type": "stream",
     "text": [
      "54.43414634146342\n"
     ]
    }
   ],
   "source": [
    "print(data.age.mean())"
   ]
  },
  {
   "cell_type": "markdown",
   "id": "c9a9bbea-a4a4-4721-ad19-24fbb69e1b84",
   "metadata": {},
   "source": [
    "# CONCLUSION"
   ]
  },
  {
   "cell_type": "markdown",
   "id": "3de1dd37-3197-4931-a540-f17e6641ba3f",
   "metadata": {},
   "source": [
    "1. We see around 526 people out of 1025 are affected with disease\n",
    "2. It is observed that 300 male and 226 female are affected by disease.\n",
    "3. we can observe that among disease patients, male are higher than female.\n",
    "4. Most of the patients are in the age between 50s to 60s. \n",
    "5. The mean age is about 54 years, the youngest is at 29 and the oldest is at 77.\n"
   ]
  },
  {
   "cell_type": "code",
   "execution_count": null,
   "id": "eb507da7-7617-4663-aed5-b1ccc9a87721",
   "metadata": {},
   "outputs": [],
   "source": []
  }
 ],
 "metadata": {
  "kernelspec": {
   "display_name": "Python 3 (ipykernel)",
   "language": "python",
   "name": "python3"
  },
  "language_info": {
   "codemirror_mode": {
    "name": "ipython",
    "version": 3
   },
   "file_extension": ".py",
   "mimetype": "text/x-python",
   "name": "python",
   "nbconvert_exporter": "python",
   "pygments_lexer": "ipython3",
   "version": "3.12.0"
  }
 },
 "nbformat": 4,
 "nbformat_minor": 5
}
